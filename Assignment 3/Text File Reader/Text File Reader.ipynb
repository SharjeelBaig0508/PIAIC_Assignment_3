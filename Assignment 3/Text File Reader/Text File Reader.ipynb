{
 "cells": [
  {
   "cell_type": "code",
   "execution_count": 1,
   "metadata": {},
   "outputs": [
    {
     "name": "stdout",
     "output_type": "stream",
     "text": [
      "Enter the name or path of the file >>> sample_text_file.txt4\n",
      "There are 38128 words in the file sample_text_file.txt4\n",
      "There are 4822 lines in the file sample_text_file.txt4\n",
      "There are 82830 non-space characters in the file sample_text_file.txt4\n",
      "There are 54320 spaces in the file sample_text_file.txt4\n",
      "There are 34 tabs in the file sample_text_file.txt4\n",
      "There are 3 paragraphs in the file sample_text_file.txt4\n"
     ]
    }
   ],
   "source": [
    "# File Opening\n",
    "file_path = input(\"Enter the name or path of the file >>> \")#\"sample_text_file.txt4\"\n",
    "file = open(file_path, 'r')\n",
    "contents = file.read()\n",
    "\n",
    "# ---------------------------( Calculations )---------------------------------------\n",
    "\n",
    "# Word Count\n",
    "words = contents.split()\n",
    "num_words = len(words)\n",
    "# print(words) # trouble shooting\n",
    "\n",
    "# Line Count\n",
    "lines = contents.split(\"\\n\")\n",
    "num_lines = len(lines)\n",
    "# print(lines) # trouble shooting\n",
    "\n",
    "# Non-Space Characters, Spaces, Tabs Count\n",
    "num_characters, num_spaces, num_tabs = 0, 0, 0\n",
    "for character in contents:\n",
    "    if character == \" \":\n",
    "        num_spaces += 1\n",
    "    elif character == \"\\t\":\n",
    "        num_tabs += 1\n",
    "    else:\n",
    "        num_characters += 1\n",
    "\n",
    "# Paragraph Count\n",
    "paragraphs = contents.split(\"\\n\\t\")\n",
    "num_paragraphs = len(paragraphs)\n",
    "# print(paragraphs) # trouble shooting\n",
    "\n",
    "# -------------------------( Calculation Ends )---------------------------------------\n",
    "\n",
    "# -----------------------------( Output )---------------------------------------------\n",
    "\n",
    "# Words\n",
    "print(f\"There are {num_words} words in the file {file_path}\")\n",
    "\n",
    "# Lines\n",
    "print(f\"There are {num_lines} lines in the file {file_path}\")\n",
    "\n",
    "# Characters\n",
    "print(f\"There are {num_characters} non-space characters in the file {file_path}\")\n",
    "\n",
    "# Spaces\n",
    "print(f\"There are {num_spaces} spaces in the file {file_path}\")\n",
    "\n",
    "# Tabs\n",
    "print(f\"There are {num_tabs} tabs in the file {file_path}\")\n",
    "\n",
    "# Paragraphs\n",
    "print(f\"There are {num_paragraphs} paragraphs in the file {file_path}\")\n",
    "\n",
    "# --------------------------( Output Ends )-------------------------------------------\n",
    "\n",
    "#File Closing\n",
    "file.close()\n",
    "\n",
    "# -------------------------( Program Ends )-------------------------------------------"
   ]
  },
  {
   "cell_type": "code",
   "execution_count": null,
   "metadata": {},
   "outputs": [],
   "source": []
  }
 ],
 "metadata": {
  "kernelspec": {
   "display_name": "Python 3",
   "language": "python",
   "name": "python3"
  },
  "language_info": {
   "codemirror_mode": {
    "name": "ipython",
    "version": 3
   },
   "file_extension": ".py",
   "mimetype": "text/x-python",
   "name": "python",
   "nbconvert_exporter": "python",
   "pygments_lexer": "ipython3",
   "version": "3.7.3"
  }
 },
 "nbformat": 4,
 "nbformat_minor": 2
}
