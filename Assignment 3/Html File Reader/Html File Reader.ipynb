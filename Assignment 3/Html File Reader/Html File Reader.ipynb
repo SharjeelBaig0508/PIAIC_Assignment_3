{
 "cells": [
  {
   "cell_type": "code",
   "execution_count": 5,
   "metadata": {},
   "outputs": [
    {
     "name": "stdout",
     "output_type": "stream",
     "text": [
      "Enter the name or path of the file >>> example_html_file.html\n",
      "There are 20 tags in the html file example_html_file.html\n",
      "The names of the tags are :\n",
      "html\n",
      "head\n",
      "title\n",
      "/title\n",
      "style\n",
      "/style\n",
      "/head\n",
      "body\n",
      "h1\n",
      "/h1\n",
      "p\n",
      "/p\n",
      "p class=\"redtext\"\n",
      "/p\n",
      "p\n",
      "a href=\"http://google.com\"\n",
      "/a\n",
      "/p\n",
      "/body\n",
      "/html\n"
     ]
    }
   ],
   "source": [
    "# File Opening\n",
    "file_path = input(\"Enter the name or path of the file >>> \") # \"example_html_file.html\"\n",
    "file = open(file_path, \"r\")\n",
    "contents = file.read()\n",
    "\n",
    "# Calculations\n",
    "tag_flag, num_tags = False, 0\n",
    "name_tags = []\n",
    "tags = \"\"\n",
    "\n",
    "for characters in contents:\n",
    "    if characters == \"<\":\n",
    "        num_tags += 1\n",
    "        tag_flag = True\n",
    "    elif characters == \">\":\n",
    "        name_tags.append(tags)\n",
    "        tags = \"\"\n",
    "        tag_flag = False\n",
    "    elif tag_flag:\n",
    "        tags += characters\n",
    "\n",
    "\"\"\"tags = contents.split(\"\\n\")\n",
    "for tag in tags:\n",
    "    if \"<\" in tag:\n",
    "        name_tags.append(tag[tag.index(\"<\") + 1: tag.index(\">\")])\n",
    "\"\"\"\n",
    "#Output\n",
    "\n",
    "print(f\"There are {num_tags} tags in the html file {file_path}\")\n",
    "\n",
    "print(\"The names of the tags are :\")\n",
    "for name_tag in name_tags:\n",
    "    print(name_tag)\n",
    "\n",
    "# File Closing\n",
    "file.close()"
   ]
  },
  {
   "cell_type": "code",
   "execution_count": null,
   "metadata": {},
   "outputs": [],
   "source": []
  }
 ],
 "metadata": {
  "kernelspec": {
   "display_name": "Python 3",
   "language": "python",
   "name": "python3"
  },
  "language_info": {
   "codemirror_mode": {
    "name": "ipython",
    "version": 3
   },
   "file_extension": ".py",
   "mimetype": "text/x-python",
   "name": "python",
   "nbconvert_exporter": "python",
   "pygments_lexer": "ipython3",
   "version": "3.7.3"
  }
 },
 "nbformat": 4,
 "nbformat_minor": 2
}
